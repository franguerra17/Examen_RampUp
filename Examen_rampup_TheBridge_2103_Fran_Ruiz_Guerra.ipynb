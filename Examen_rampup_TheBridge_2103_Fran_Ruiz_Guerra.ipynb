{
 "cells": [
  {
   "cell_type": "markdown",
   "metadata": {},
   "source": [
    "# Examen Ramp-Up Sevilla Marzo 2022"
   ]
  },
  {
   "cell_type": "markdown",
   "metadata": {},
   "source": [
    "**Aviso**: En todos los ejercicios se valorarán las buenas prácticas de programación como una parte importante de la calificación (comentarios, nombres de variables autoexplicativas)."
   ]
  },
  {
   "cell_type": "markdown",
   "metadata": {},
   "source": [
    "## Ejercicio 1: Tipos de Datos (4 puntos) "
   ]
  },
  {
   "cell_type": "markdown",
   "metadata": {},
   "source": [
    "En este ejercicio se va a crear una lista con los siguientes elementos. \n",
    "\n",
    "**IMPORTANTE**: En todos los casos, hacer print del resultado y del tipo.\n",
    "\n",
    "Primero, crearemos las variables que luego añadiremos a la lista. Las variables son las siguientes:\n",
    "\n",
    "1. Crea una variable llamada `edad` de tipo Integer que represente tu edad en años. \n",
    "2. Crea una variable llamada `nombre` de tipo String con tu nombre y otra `apellidos` con tus apellidos\n",
    "3. Concatena tu nombre seguido de un espacio en blanco y la inicial de tu primer apellido a partir de `nombre` y `apellidos`. Guárdala en `nombre_y_apellidos`.\n",
    "4. Crea una variable llamada `altura` con el valor de tu altura en metros de tipo float.\n",
    "5. Crea una variable llamada `tipo_ord` de tipo Boolean True si usas Windows y False si usas Mac.\n",
    "6. Crea una variable llamada `nada` de tipo None cuyo valor sea None.\n",
    "\n",
    "Nota: 6/6 (1/1)\n",
    "\n",
    "#### Listas\n",
    "8. Crea una variable llamada `lista_series` de tipo List que contenga las 5 series de TV que más te gusten. Cada elemento ha de ser de tipo String.\n",
    "9.  Añade todos estos elementos en una lista llamada `lista_examen` en el orden de aparición **usando métodos de lista**. \n",
    "10. Crea `lista_examen_mod_edad` idéntica a `lista_examen` pero sustituyendo la edad por la edad + 10.\n",
    "11. Elimina un elemento de `lista_examen_mod_edad` y guárdalo en una variable.\n",
    "\n",
    "Nota: 2.5/4 (0.65/1)\n",
    "\n",
    "#### Diccionarios\n",
    "11. Crea una variable llamada `dict_info` con dos keys y dos values. Una key es `ciudad`, teniendo como value la ciudad en la que vives. Otra key es `portal`, teniendo como value el número de tu calle.\n",
    "12. Muestra las claves, valores e items de `dict_info`\n",
    "13. Elimina un item usando su clave.\n",
    "\n",
    "Nota: 3/3 (1/1)\n",
    "\n",
    "#### Tuplas\n",
    "13. Crea una variable llamada `tupla_ropa` de tipo Tuple con la marca de la prenda superior, inferior y calzado que llevas puesto.\n",
    "14. Accede a los elementos de `tupla_ropa` y muéstralos por pantalla\n",
    "15. Convierte `tupla_ropa` en una lista `lista_ropa` usando la función necesaria para ello.\n",
    "\n",
    "Nota: 3/3 (1/1)\n"
   ]
  },
  {
   "cell_type": "code",
   "execution_count": 2,
   "metadata": {},
   "outputs": [],
   "source": [
    "# Ejercicio 1:\n",
    "# 1.1)\n",
    "edad = 30\n",
    "\n",
    "# 1.2)\n",
    "nombre = 'Fran'\n",
    "apellidos = 'Ruiz Guerra'\n",
    "\n",
    "# 1.3)\n",
    "nombre_y_apellidos =(f'{nombre} {apellidos[0]}')\n",
    "\n",
    "# 1.4)\n",
    "altura = 1.67\n",
    "\n",
    "# 1.5)\n",
    "tipo_ord = True\n",
    "\n",
    "# 1.6)\n",
    "nada = None"
   ]
  },
  {
   "cell_type": "code",
   "execution_count": 4,
   "metadata": {},
   "outputs": [
    {
     "name": "stdout",
     "output_type": "stream",
     "text": [
      "[30, 'Fran', 'Ruiz Guerra', 'Fran R', 1.67, True, None, ['Ataque a los titanes', 'Breaking bad', 'Fargo', 'The Mandalorian', 'True detective']]\n",
      "[40, 'Fran', 'Ruiz Guerra', 'Fran R', 1.67, True, None, ['Ataque a los titanes', 'Breaking bad', 'Fargo', 'The Mandalorian', 'True detective']]\n",
      "40\n",
      "['Fran', 'Ruiz Guerra', 'Fran R', 1.67, True, None, ['Ataque a los titanes', 'Breaking bad', 'Fargo', 'The Mandalorian', 'True detective']]\n",
      "[30, 'Fran', 'Ruiz Guerra', 'Fran R', 1.67, True, None, ['Ataque a los titanes', 'Breaking bad', 'Fargo', 'The Mandalorian', 'True detective']]\n"
     ]
    }
   ],
   "source": [
    "# Ejercicios Listas:\n",
    "# 1.8)\n",
    "lista_series = ['Ataque a los titanes', 'Breaking bad', 'Fargo', 'The Mandalorian', 'True detective'] \n",
    "\n",
    "# 1.9)\n",
    "lista_examen = []\n",
    "lista_examen.extend([edad, nombre, apellidos, nombre_y_apellidos, altura, tipo_ord, nada, lista_series])\n",
    "\n",
    "# 1.10) \n",
    "lista_examen_mod_edad = lista_examen.copy() # 1/4\n",
    "#print(lista_examen_mod_edad.index(edad))\n",
    "lista_examen_mod_edad[0] = edad +10\n",
    "print(lista_examen)\n",
    "print(lista_examen_mod_edad)\n",
    "\n",
    "# 1.11)\n",
    "edad_10 = lista_examen_mod_edad.pop(0)\n",
    "print(edad_10)\n",
    "print(lista_examen_mod_edad)\n",
    "print(lista_examen)\n"
   ]
  },
  {
   "cell_type": "code",
   "execution_count": 13,
   "metadata": {},
   "outputs": [
    {
     "name": "stdout",
     "output_type": "stream",
     "text": [
      "dict_keys(['ciudad', 'portal'])\n",
      "dict_values(['Sevilla', 10])\n",
      "dict_items([('ciudad', 'Sevilla'), ('portal', 10)])\n",
      "{'ciudad': 'Sevilla'}\n"
     ]
    }
   ],
   "source": [
    "# Ejercicios Diccionarios\n",
    "# 1.11) \n",
    "dict_info = {\n",
    "    'ciudad' : 'Sevilla',\n",
    "    'portal' : 10 \n",
    "}\n",
    "\n",
    "# 1.12)\n",
    "print(dict_info.keys())\n",
    "print(dict_info.values())\n",
    "print(dict_info.items())\n",
    "\n",
    "# 1.13) \n",
    "dict_info.pop('portal')\n",
    "print(dict_info)"
   ]
  },
  {
   "cell_type": "code",
   "execution_count": 16,
   "metadata": {},
   "outputs": [
    {
     "name": "stdout",
     "output_type": "stream",
     "text": [
      "Pedro_del_hierro\n",
      "Zara\n",
      "Vans\n",
      "<class 'list'>\n",
      "['Pedro_del_hierro', 'Zara', 'Vans']\n"
     ]
    }
   ],
   "source": [
    "# Ejercicios Tuplas:\n",
    "# 1.13) \n",
    "tupla_ropa = ('Pedro_del_hierro', 'Zara', 'Vans')\n",
    "\n",
    "#1.14)\n",
    "for i in tupla_ropa:\n",
    "    print(i)\n",
    "\n",
    "# 1.15) \n",
    "tupla_ropa = list(tupla_ropa)\n",
    "print(type(tupla_ropa))\n",
    "print(tupla_ropa)\n"
   ]
  },
  {
   "cell_type": "markdown",
   "metadata": {},
   "source": [
    "## Ejercicio 2: Funciones (1.5 puntos) "
   ]
  },
  {
   "cell_type": "markdown",
   "metadata": {},
   "source": [
    "1. Crea una función que, dado un input `x`, devuelva \n",
    "$$\n",
    "y = 4x + 2\n",
    "$$\n",
    "\n",
    "2. Crea una función que, dado un input `x`, devuelva \n",
    "$$\n",
    "y = 3x^2 + 4x + 2\n",
    "$$\n",
    "\n",
    "3. Dado el polinomio\n",
    "\n",
    "$$\n",
    "a_nx^n + a_{n-1}x^{n-1} + ... + a_1x + a_0\n",
    "$$\n",
    "\n",
    "Crea una función que reciba como input `x` y una lista de `[a_0, ..., a_n]` y devuelva el valor del polinomio en `x`.\n",
    "\n",
    "**Nota**: En caso de no poder con una función, hacerlo como se pueda.\n",
    "\n",
    "**Pista**: El primero cumple `n = 1` y los parámetros son `[2, 4]`. El segundo: `n = 2` y los parámetros `[2, 4, 3]`. Con esta información, intenta generalizar."
   ]
  },
  {
   "cell_type": "code",
   "execution_count": 18,
   "metadata": {},
   "outputs": [
    {
     "data": {
      "text/plain": [
       "18"
      ]
     },
     "execution_count": 18,
     "metadata": {},
     "output_type": "execute_result"
    }
   ],
   "source": [
    "# Ejercicio 2\n",
    "# 2.1) \n",
    "print('Función lineal')\n",
    "def lineal(x):\n",
    "    y = 4*x +2\n",
    "    return y\n",
    "\n",
    "lineal(4)"
   ]
  },
  {
   "cell_type": "code",
   "execution_count": 19,
   "metadata": {},
   "outputs": [
    {
     "data": {
      "text/plain": [
       "66"
      ]
     },
     "execution_count": 19,
     "metadata": {},
     "output_type": "execute_result"
    }
   ],
   "source": [
    "# 2.2) \n",
    "print('Función cuadrática')\n",
    "\n",
    "def cuadrada(z):\n",
    "    result = (3 * z**2) + (4 * z) + 2\n",
    "    return result\n",
    "\n",
    "cuadrada(4) "
   ]
  },
  {
   "cell_type": "code",
   "execution_count": 7,
   "metadata": {},
   "outputs": [
    {
     "name": "stdout",
     "output_type": "stream",
     "text": [
      "Haz tu propio polinomio\n"
     ]
    },
    {
     "data": {
      "text/plain": [
       "13379"
      ]
     },
     "execution_count": 7,
     "metadata": {},
     "output_type": "execute_result"
    }
   ],
   "source": [
    "# 2.3) \n",
    "print('Haz tu propio polinomio')\n",
    "\n",
    "def polinomio(num1, ls_poli):\n",
    "    n = len(ls_poli)\n",
    "    result= ls_poli[0]\n",
    "\n",
    "    for j in ls_poli:\n",
    "\n",
    "        for i in range(1, n): \n",
    "\n",
    "            result = result*num1 + ls_poli[i] # ((a_0 * x + a_1)*x + a_2)*x + a_3 ... != poli\n",
    "  \n",
    "    return result \n",
    "\n",
    "\n",
    "polinomio(4, [2, 4, 3]) "
   ]
  },
  {
   "cell_type": "markdown",
   "metadata": {},
   "source": [
    "## Ejercicio 3: Git (1 punto) "
   ]
  },
  {
   "cell_type": "markdown",
   "metadata": {},
   "source": [
    "Di si las siguientes afirmaciones son verdaderas o falsas. En caso de ser falsa, justifica tu respuesta.\n",
    "\n",
    "1. Git es un sistema de control de versiones\n",
    "2. Con `git pull` subimos los cambios al remoto\n",
    "3. En clase usamos `HTTP` como protocolo para comunicarnos con el remoto\n",
    "4. El README contiene la información resumida del proyecto\n",
    "5. Para trackear los ficheros hacemos `git commit`"
   ]
  },
  {
   "cell_type": "markdown",
   "metadata": {},
   "source": [
    "### Respuestas:\n",
    "\n",
    "1. Verdadera\n",
    "2. Falsa, con `git pull` cargamos los cambios, `git push` para subir\n",
    "3. Falsa, usamos protocolo `SSH`\n",
    "4. Verdadera\n",
    "5. Falso, primero hacemos `git add`, y luego `git commit` con el mensaje (`-m`)"
   ]
  },
  {
   "cell_type": "markdown",
   "metadata": {},
   "source": [
    "## Ejercicio 4: Flujos de Control (1.5 puntos) "
   ]
  },
  {
   "cell_type": "markdown",
   "metadata": {},
   "source": [
    "1. Hacer un programa que permita saber si un año es bisiesto. Para que un año sea bisiesto debe ser divisible por 4 y no debe ser divisible por 100, excepto que también sea divisible por 400.\n",
    "2. Hacer un programa que, dado un número, nos diga si es Real o Entero.\n",
    "3. Declara una variable numérica que será una hora cualquiera del día. Implementa mediante sentencias `if/elif/else` la siguiente casuística:\n",
    "   * Si es entre las 0 y las 8, print \"Durmiendo\"\n",
    "   * Si es entre las 9 y las 18, print \"Trabajando\"\n",
    "   * Si es entre las 19 y las 21, print \"Clase\"\n",
    "   * Si es entre las 22 y las 24, print \"Descanso\"\n",
    "   * En cualquier otro caso, print \"Transporte o error\""
   ]
  },
  {
   "cell_type": "code",
   "execution_count": 8,
   "metadata": {},
   "outputs": [
    {
     "name": "stdout",
     "output_type": "stream",
     "text": [
      "Averigua si un año es bisiesto\n",
      "4 es un año bisiesto\n",
      "4 es un año bisiesto\n"
     ]
    }
   ],
   "source": [
    "# Ejercicio 4\n",
    "# 4.1) \n",
    "print('Averigua si un año es bisiesto')\n",
    "\n",
    "year = int(input(\"Introduce un año...:\"))\n",
    "\n",
    "if year % 4 == 0 and (year % 100 != 0 or year % 400==0):\n",
    "\tprint(f\"{year} es un año bisiesto\")\n",
    "\n",
    "else:\n",
    "\tprint(f\"{year} no es un año bisiesto\")"
   ]
  },
  {
   "cell_type": "code",
   "execution_count": 9,
   "metadata": {},
   "outputs": [
    {
     "name": "stdout",
     "output_type": "stream",
     "text": [
      "Averigua si el número es entero o real\n",
      "5.9797979797 es un número real de tipo <class 'float'>\n"
     ]
    }
   ],
   "source": [
    "# 4.2)\n",
    "print('Averigua si el número es entero o real')\n",
    "\n",
    "numero = (input('Introduce el número a analizar...: '))\n",
    "\n",
    "try:\n",
    "    numero = int(numero)\n",
    "    print(f'{numero} es un número entero de tipo {type(numero)}')\n",
    "\n",
    "except:\n",
    "    try:\n",
    "        numero = float(numero)\n",
    "        print(f'{numero} es un número real de tipo {type(numero)}')\n",
    "    \n",
    "    except: \n",
    "        print(f'{numero} NO es un número')"
   ]
  },
  {
   "cell_type": "code",
   "execution_count": 15,
   "metadata": {},
   "outputs": [
    {
     "name": "stdout",
     "output_type": "stream",
     "text": [
      "Horario estructurado\n",
      "Durmiendo\n"
     ]
    }
   ],
   "source": [
    "# 4.3)\n",
    "print('Horario estructurado')\n",
    "\n",
    "hora = 9\n",
    "\n",
    "if hora in range(0,9):\n",
    "    print('Durmiendo')\n",
    "\n",
    "elif hora in range(9, 19):\n",
    "    print('Trabajando')\n",
    "\n",
    "elif hora in range(19, 22):\n",
    "    print('Clase')\n",
    "\n",
    "elif hora in range(22, 25):\n",
    "    print('Descanso')\n",
    "\n",
    "else:\n",
    "    print('Transporte o error')"
   ]
  },
  {
   "cell_type": "markdown",
   "metadata": {},
   "source": [
    "## Ejercicio 5: Calculadora simple (2 Puntos) "
   ]
  },
  {
   "cell_type": "markdown",
   "metadata": {},
   "source": [
    "Construye un programa que:\n",
    "\n",
    "- Salude al usuario por su nombre\n",
    "- Le pregunte si quiere sumar, restar, multiplicar o dividir\n",
    "- Pida que introduzca 2 números de manera sucesiva\n",
    "- Devuelva el resultado de manera formal con un mensaje apropiado \n",
    "\n",
    "**Ayuda**: No se puede dividir por 0"
   ]
  },
  {
   "cell_type": "code",
   "execution_count": 1,
   "metadata": {},
   "outputs": [
    {
     "name": "stdout",
     "output_type": "stream",
     "text": [
      "BIENVENIDO A LA CALCULADORA DEL FUTURO\n",
      "Hola Angel, introduzca a continuación los dos números y la operación a realizar\n",
      "El número introducido no es correcto, pruebe otra vez\n",
      "La operación indicada no se reconoce, pruebe de nuevo usando símbolos o escribiendo la operación\n"
     ]
    },
    {
     "ename": "SystemExit",
     "evalue": "No se puede dividir entre 0 Angel, el programa se va a cerrar",
     "output_type": "error",
     "traceback": [
      "An exception has occurred, use %tb to see the full traceback.\n",
      "\u001b[1;31mSystemExit\u001b[0m\u001b[1;31m:\u001b[0m No se puede dividir entre 0 Angel, el programa se va a cerrar\n"
     ]
    },
    {
     "name": "stderr",
     "output_type": "stream",
     "text": [
      "C:\\Users\\Usuario\\AppData\\Local\\Programs\\Python\\Python37\\lib\\site-packages\\IPython\\core\\interactiveshell.py:3532: UserWarning: To exit: use 'exit', 'quit', or Ctrl-D.\n",
      "  warn(\"To exit: use 'exit', 'quit', or Ctrl-D.\", stacklevel=1)\n"
     ]
    }
   ],
   "source": [
    "# Importamos la librería sys para cerrar el programa más adelante si oucrre una excepción\n",
    "import sys\n",
    "\n",
    "print('BIENVENIDO A LA CALCULADORA DEL FUTURO')\n",
    "\n",
    "nombre = input('Introduce tu nombre...: ')\n",
    "print(f'Hola {nombre}, introduzca a continuación los dos números y la operación a realizar')\n",
    "\n",
    "# Cada vez que usemos un input y queramos un número, nos cercioraremos de que es un valor numérico con un bucle while\n",
    "# Esta es la versión beta, en un futuro optimizaremos con funciones\n",
    "num1 = input('Introduzca el primer número...: ')\n",
    "while True:\n",
    "    try:\n",
    "        num1 = float(num1)\n",
    "        break\n",
    "    except:\n",
    "        print('El número introducido no es correcto, pruebe otra vez')\n",
    "        num1 = input('Introduzca el primer número...: ')\n",
    "\n",
    "\n",
    "num2 = input('Introduzca el segundo número...')\n",
    "\n",
    "while True:\n",
    "    try:\n",
    "        num2 = float(num2)\n",
    "        break\n",
    "    except:\n",
    "        print('El número introducido no es correcto, pruebe otra vez')\n",
    "        num2 = input('Introduzca el segundo número...: ')\n",
    "\n",
    "# Restringimos el 'simbolo' a las palabras reservadas de las operaciones o su símbolo en calculadora\n",
    "simbolo = input('Ingrese la operación que desea realizar: ')\n",
    "\n",
    "while True:\n",
    "    if simbolo == '+' or simbolo == 'suma':\n",
    "        result = num1 + num2\n",
    "        break\n",
    "\n",
    "    elif simbolo == '-' or simbolo == 'resta':\n",
    "        result = num1 - num2\n",
    "        break\n",
    "\n",
    "    elif simbolo == '*' or simbolo == 'multiplicacion':\n",
    "        result = num1 * num2\n",
    "        break\n",
    "\n",
    "#En la división tenemos la excepción de que no se puede dividir entre 0, por lo que cerraremos el programa si esto ocurre\n",
    "    elif simbolo == '/' or simbolo == 'division':\n",
    "        if num2 == 0:\n",
    "            sys.exit(f'No se puede dividir entre 0 {nombre}, el programa se va a cerrar')\n",
    "        else:\n",
    "            result = num1 / num2\n",
    "            break\n",
    "\n",
    "    else:\n",
    "        print('La operación indicada no se reconoce, pruebe de nuevo usando símbolos o escribiendo la operación')\n",
    "        simbolo = input('Ingrese la operación que desea realizar: ')\n",
    "\n",
    "print(f'Primer numero: {num1}')\n",
    "print(f'Segundo número: {num2}')\n",
    "print(f'Operación: {simbolo}')\n",
    "print(f'Tu resultado es {result}')"
   ]
  },
  {
   "cell_type": "markdown",
   "metadata": {},
   "source": [
    "## Ejercicio 6 (Subir Nota): Text Beautifier"
   ]
  },
  {
   "cell_type": "markdown",
   "metadata": {},
   "source": [
    "Dado el string `\"HeyYy cOmo EstAas\"`:\n",
    "\n",
    "    - Pasa todo a minúsculas con el método adecuado de la clase `str`\n",
    "    - Pon las iniciales de cada palabra en mayúscula\n",
    "    - Convierte el string en una lista de palabras\n",
    "    - Elimina las `y`"
   ]
  },
  {
   "cell_type": "code",
   "execution_count": 59,
   "metadata": {},
   "outputs": [
    {
     "name": "stdout",
     "output_type": "stream",
     "text": [
      "Manipulando strings\n",
      "heyyy como estaas\n",
      "Heyyy Como Estaas\n",
      "He Como Estaas\n",
      "<class 'list'>\n",
      "['He', 'Como', 'Estaas']\n"
     ]
    }
   ],
   "source": [
    "print('Manipulando strings')\n",
    "\n",
    "#Primero pasamos todo a minúsculas con el método 'lower()'\n",
    "text = \"HeyYy cOmo EstAas\"\n",
    "text = text.lower()\n",
    "print(text)\n",
    "\n",
    "#Pasamos la primera letra de cada palabra a mayúsculas\n",
    "text = text.title()\n",
    "print(text)\n",
    "\n",
    "#Reemplazamos todas las 'y' por '', es lo mismo que elimnarlas\n",
    "text = text.replace('y', '')\n",
    "print(text)\n",
    "\n",
    "#Con el método '.split()' separamos por espacios, el resultado será una lista con cada palabra\n",
    "text = text.split(' ')\n",
    "print(type(text))\n",
    "print(text)\n",
    "\n",
    "\n"
   ]
  },
  {
   "cell_type": "markdown",
   "metadata": {},
   "source": [
    "## Ejercicio Extra: Calculadora (Python Badge)"
   ]
  },
  {
   "cell_type": "markdown",
   "metadata": {},
   "source": [
    "Construye una calculadora que sea como la anterior pero:\n",
    "\n",
    "- Acepte tantos valores de entrada como queramos\n",
    "- Devuelva mensajes con las cuentas que se van haciendo.\n",
    "- Permita salir con una palabra clave (exit, quit, ...)"
   ]
  },
  {
   "cell_type": "code",
   "execution_count": 9,
   "metadata": {},
   "outputs": [
    {
     "name": "stdout",
     "output_type": "stream",
     "text": [
      "BIENVENIDO A LA CALCULADORA DEL FUTURO\n",
      "Hola fran, introduzca a continuación los dos números y la operación a realizar\n",
      "Tu resultado es 8.0\n"
     ]
    }
   ],
   "source": [
    "# Importamos la librería sys para cerrar el programa más adelante si oucrre una excepción\n",
    "import sys\n",
    "\n",
    "print('BIENVENIDO A LA CALCULADORA DEL FUTURO')\n",
    "\n",
    "nombre = input('Introduce tu nombre...: ')\n",
    "print(f'Hola {nombre}, introduzca a continuación los dos números y la operación a realizar')\n",
    "resultado = 0\n",
    "\n",
    "while True:\n",
    "    num1 = float(input('Introduce el primer número...: '))\n",
    "    \n",
    "    simbolo = input('Ingrese la operación que desea realizar: ')\n",
    "\n",
    "    num2 = float(input('Introduzca el segundo número...'))\n",
    "\n",
    "    # while simbolo == True:\n",
    "    while True:\n",
    "        if simbolo == '+' or simbolo == 'suma':\n",
    "            result = num1 + num2\n",
    "            break\n",
    "\n",
    "        elif simbolo == '-' or simbolo == 'resta':\n",
    "            result = num1 - num2\n",
    "            break\n",
    "\n",
    "        elif simbolo == '*' or simbolo == 'multiplicacion':\n",
    "            result = num1 * num2\n",
    "            break\n",
    "\n",
    "    #En la división tenemos la excepción de que no se puede dividir entre 0, por lo que cerraremos el programa si esto ocurre\n",
    "        elif simbolo == '/' or simbolo == 'division':\n",
    "            if num2 == 0:\n",
    "                sys.exit(f'No se puede dividir entre 0 {nombre}, el programa se va a cerrar')\n",
    "            else:\n",
    "                result = num1 / num2\n",
    "                break\n",
    "\n",
    "        else:\n",
    "            print('La operación indicada no se reconoce, pruebe de nuevo usando símbolos o escribiendo la operación')\n",
    "            simbolo = input('Ingrese la operación que desea realizar: ')\n",
    "    \n",
    "    \n",
    "    \n",
    "    respuesta = input('Escriba una \"n\" o \"N\" si no quiere seguir introduciendo números, de lo contrario pulse cualquier tecla')\n",
    "\n",
    "    resultado += result\n",
    "\n",
    "    if respuesta == 'N' or respuesta =='n':\n",
    "        break\n",
    "\n",
    "    else:\n",
    "        num1 = float(input('Introduce el primer número...: '))\n",
    "        \n",
    "        simbolo = input('Ingrese la operación que desea realizar: ')\n",
    "\n",
    "        num2 = float(input('Introduzca el segundo número...'))\n",
    "\n",
    "        while True:\n",
    "            if simbolo == '+' or simbolo == 'suma':\n",
    "                result = num1 + num2\n",
    "                break\n",
    "\n",
    "            elif simbolo == '-' or simbolo == 'resta':\n",
    "                result = num1 - num2\n",
    "                break\n",
    "\n",
    "            elif simbolo == '*' or simbolo == 'multiplicacion':\n",
    "                result = num1 * num2\n",
    "                break\n",
    "\n",
    "        #En la división tenemos la excepción de que no se puede dividir entre 0, por lo que cerraremos el programa si esto ocurre\n",
    "            elif simbolo == '/' or simbolo == 'division':\n",
    "                if num2 == 0:\n",
    "                    sys.exit(f'No se puede dividir entre 0 {nombre}, el programa se va a cerrar')\n",
    "                else:\n",
    "                    result = num1 / num2\n",
    "                    break\n",
    "\n",
    "            else:\n",
    "                print('La operación indicada no se reconoce, pruebe de nuevo usando símbolos o escribiendo la operación')\n",
    "                simbolo = input('Ingrese la operación que desea realizar: ')\n",
    "        \n",
    "        resultado += result\n",
    "        respuesta = input('Escriba una \"n\" o \"N\" si quiere seguir introduciendo números, de lo contrario pulse cualquier tecla')\n",
    "\n",
    "\n",
    "\n",
    "print(f'Tu resultado es {resultado}')"
   ]
  }
 ],
 "metadata": {
  "interpreter": {
   "hash": "bbecac44435c2c981f643c81cfe05fa1d6ef605eda7f5952ee2b272fedf4993e"
  },
  "kernelspec": {
   "display_name": "Python 3.7.4 64-bit",
   "language": "python",
   "name": "python3"
  },
  "language_info": {
   "codemirror_mode": {
    "name": "ipython",
    "version": 3
   },
   "file_extension": ".py",
   "mimetype": "text/x-python",
   "name": "python",
   "nbconvert_exporter": "python",
   "pygments_lexer": "ipython3",
   "version": "3.7.4"
  },
  "orig_nbformat": 4
 },
 "nbformat": 4,
 "nbformat_minor": 2
}
